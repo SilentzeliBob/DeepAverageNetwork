{
  "cells": [
    {
      "cell_type": "code",
      "source": [
        "#!pip install -r requirements.txt"
      ],
      "metadata": {
        "id": "RP82cwQDYauV"
      },
      "id": "RP82cwQDYauV",
      "execution_count": 1,
      "outputs": []
    },
    {
      "cell_type": "code",
      "source": [
        "#!pip install datasets"
      ],
      "metadata": {
        "id": "WPGVk0UzZgS0"
      },
      "id": "WPGVk0UzZgS0",
      "execution_count": 2,
      "outputs": []
    },
    {
      "cell_type": "code",
      "execution_count": 3,
      "id": "7f9c64fb",
      "metadata": {
        "id": "7f9c64fb"
      },
      "outputs": [],
      "source": [
        "from typing import Dict, List\n",
        "\n",
        "import matplotlib.pyplot as plt\n",
        "import numpy as np\n",
        "import pandas as pd\n",
        "import seaborn as sns\n",
        "import torch\n",
        "\n",
        "from datasets import load_dataset\n",
        "from nltk.tokenize import ToktokTokenizer\n",
        "from sklearn.metrics import f1_score\n",
        "from torch import nn\n",
        "from torch.utils.data import DataLoader\n",
        "from tqdm import tqdm"
      ]
    },
    {
      "cell_type": "markdown",
      "id": "102d7074",
      "metadata": {
        "id": "102d7074"
      },
      "source": [
        "# Deep Average Network для определения сентимента "
      ]
    },
    {
      "cell_type": "code",
      "source": [
        "#!wget  https://dl.fbaipublicfiles.com/fasttext/vectors-crawl/cc.en.300.vec.gz\n",
        "#!gzip -d cc.en.300.vec.gz"
      ],
      "metadata": {
        "id": "rCVVMt9Uz-v7"
      },
      "id": "rCVVMt9Uz-v7",
      "execution_count": 4,
      "outputs": []
    },
    {
      "cell_type": "code",
      "execution_count": 5,
      "id": "e15a9f7c",
      "metadata": {
        "id": "e15a9f7c"
      },
      "outputs": [],
      "source": [
        "def load_embeddings(path, pad_token='<PAD>', unk_token='<UNK>', num_tokens=100_000, verbose=True):\n",
        "    \n",
        "\n",
        "    with open(path) as f:\n",
        "\n",
        "        vocab_size, embedding_dim = f.readline().strip().split()\n",
        "\n",
        "        vocab_size = int(vocab_size)\n",
        "        embedding_dim = int(embedding_dim)\n",
        "\n",
        "        num_tokens = vocab_size if num_tokens <= 0 else num_tokens\n",
        "        token2index: Dict[str, int] = dict()\n",
        "        token2index[pad_token] = 0\n",
        "        token2index[unk_token] = 1\n",
        "\n",
        "        embeddings_matrix: np.array = np.zeros((num_tokens, embedding_dim))\n",
        "        embeddings_matrix[1,:] = np.ones(embedding_dim)\n",
        "\n",
        "        progress_bar = tqdm(total=num_tokens, disable=not verbose, desc='Reading embeddings file')\n",
        "\n",
        "        for line in f:\n",
        "            parts = line.strip().split()\n",
        "\n",
        "            token = ' '.join(parts[:-embedding_dim]).lower()\n",
        "\n",
        "            if token in token2index:\n",
        "                continue\n",
        "            token_id = len(token2index)\n",
        "            token2index[token] = token_id\n",
        "\n",
        "            embeddings_matrix[token_id, :] = np.array(list(map(float, parts[-embedding_dim:])))\n",
        "\n",
        "            progress_bar.update()\n",
        "\n",
        "            if len(token2index) == num_tokens:\n",
        "                break\n",
        "\n",
        "        progress_bar.close()\n",
        "\n",
        "    assert(len(token2index) == embeddings_matrix.shape[0])\n",
        "    \n",
        "    return token2index, embeddings_matrix"
      ]
    },
    {
      "cell_type": "code",
      "source": [
        "token2index, embeddings_matrix = load_embeddings('/content/cc.en.300.vec', num_tokens=100_000)"
      ],
      "metadata": {
        "colab": {
          "base_uri": "https://localhost:8080/"
        },
        "id": "0MmRie_Y22kB",
        "outputId": "36c690ad-7497-42de-8b66-ad5628864f2e"
      },
      "id": "0MmRie_Y22kB",
      "execution_count": 6,
      "outputs": [
        {
          "output_type": "stream",
          "name": "stderr",
          "text": [
            "Reading embeddings file: 100%|█████████▉| 99998/100000 [00:16<00:00, 6039.64it/s]\n"
          ]
        }
      ]
    },
    {
      "cell_type": "code",
      "source": [
        "token2index"
      ],
      "metadata": {
        "id": "yM_ui6oI3SEw"
      },
      "id": "yM_ui6oI3SEw",
      "execution_count": null,
      "outputs": []
    },
    {
      "cell_type": "code",
      "source": [
        "embeddings_matrix"
      ],
      "metadata": {
        "id": "bjitPeOh3KXo"
      },
      "id": "bjitPeOh3KXo",
      "execution_count": null,
      "outputs": []
    },
    {
      "cell_type": "code",
      "execution_count": 9,
      "id": "e54fdaa8",
      "metadata": {
        "colab": {
          "base_uri": "https://localhost:8080/"
        },
        "id": "e54fdaa8",
        "outputId": "d548a155-78fc-4d01-80a2-4611d66e8ae2"
      },
      "outputs": [
        {
          "output_type": "stream",
          "name": "stderr",
          "text": [
            "Reusing dataset tweet_eval (/root/.cache/huggingface/datasets/tweet_eval/sentiment/1.1.0/12aee5282b8784f3e95459466db4cdf45c6bf49719c25cdb0743d71ed0410343)\n",
            "Reusing dataset tweet_eval (/root/.cache/huggingface/datasets/tweet_eval/sentiment/1.1.0/12aee5282b8784f3e95459466db4cdf45c6bf49719c25cdb0743d71ed0410343)\n",
            "Reusing dataset tweet_eval (/root/.cache/huggingface/datasets/tweet_eval/sentiment/1.1.0/12aee5282b8784f3e95459466db4cdf45c6bf49719c25cdb0743d71ed0410343)\n"
          ]
        }
      ],
      "source": [
        "dataset_path = \"tweet_eval\"\n",
        "dataset_name = \"sentiment\"\n",
        "\n",
        "train_dataset = load_dataset(path=dataset_path, name=dataset_name, split=\"train\")\n",
        "valid_dataset = load_dataset(path=dataset_path, name=dataset_name, split=\"validation\")\n",
        "test_dataset = load_dataset(path=dataset_path, name=dataset_name, split=\"test\")"
      ]
    },
    {
      "cell_type": "code",
      "execution_count": 10,
      "id": "3b7ce86b",
      "metadata": {
        "id": "3b7ce86b"
      },
      "outputs": [],
      "source": [
        "def empty_collate(batch):\n",
        "    return batch"
      ]
    },
    {
      "cell_type": "code",
      "execution_count": 11,
      "id": "26f0fe92",
      "metadata": {
        "id": "26f0fe92"
      },
      "outputs": [],
      "source": [
        "train_loader = DataLoader(train_dataset, batch_size=128, shuffle=True, collate_fn=empty_collate)\n",
        "valid_loader = DataLoader(valid_dataset, batch_size=128, shuffle=False, collate_fn=empty_collate)\n",
        "test_loader = DataLoader(test_dataset, batch_size=128, shuffle=False, collate_fn=empty_collate)"
      ]
    },
    {
      "cell_type": "code",
      "source": [
        "lengths = [len(sample[0]['text']) for sample in tqdm(train_loader)]"
      ],
      "metadata": {
        "colab": {
          "base_uri": "https://localhost:8080/"
        },
        "id": "dPXWB_Ww7xFh",
        "outputId": "b10cd8f9-b3e6-4a7f-fa36-b0a0fe457b82"
      },
      "id": "dPXWB_Ww7xFh",
      "execution_count": 12,
      "outputs": [
        {
          "output_type": "stream",
          "name": "stderr",
          "text": [
            "100%|██████████| 357/357 [00:05<00:00, 71.10it/s]\n"
          ]
        }
      ]
    },
    {
      "cell_type": "code",
      "source": [
        "plt.figure(figsize=(16, 10))\n",
        "plt.grid()\n",
        "plt.title(\"Распределение длин\")\n",
        "plt.xlabel(\"Длина в токенах\")\n",
        "sns.histplot(lengths)"
      ],
      "metadata": {
        "colab": {
          "base_uri": "https://localhost:8080/",
          "height": 639
        },
        "id": "aLJB0h6U71P2",
        "outputId": "8d8faace-47f2-4c77-f696-51813e6e02d4"
      },
      "id": "aLJB0h6U71P2",
      "execution_count": 13,
      "outputs": [
        {
          "output_type": "execute_result",
          "data": {
            "text/plain": [
              "<matplotlib.axes._subplots.AxesSubplot at 0x7efd5dbcf990>"
            ]
          },
          "metadata": {},
          "execution_count": 13
        },
        {
          "output_type": "display_data",
          "data": {
            "image/png": "[encoded data removed]",
            "text/plain": [
              "<Figure size 1152x720 with 1 Axes>"
            ]
          },
          "metadata": {
            "needs_background": "light"
          }
        }
      ]
    },
    {
      "cell_type": "code",
      "execution_count": 14,
      "id": "3b9ddcca",
      "metadata": {
        "id": "3b9ddcca"
      },
      "outputs": [],
      "source": [
        "class Tokenizer:\n",
        "    \n",
        "    def __init__(self, base_tokenizer, token2index, pad_token, unk_token, max_length):\n",
        "        \n",
        "        self._base_tokenizer = base_tokenizer  \n",
        "        \n",
        "        self.token2index = token2index  \n",
        "        \n",
        "        self.pad_token = pad_token\n",
        "        self.pad_index = self.token2index[self.pad_token]\n",
        "        \n",
        "        self.unk_token = unk_token\n",
        "        self.unk_index = self.token2index[self.unk_token]\n",
        "        \n",
        "        self.max_length = max_length\n",
        "\n",
        "    def tokenize(self, text):\n",
        "        \"\"\"\n",
        "        В этом методе нужно разделить строку текста на токены\n",
        "        \"\"\"\n",
        "        return self._base_tokenizer.tokenize(text)\n",
        "    \n",
        "    def indexing(self, tokenized_text):\n",
        "        \"\"\"\n",
        "        В этом методе нужно перевести список токенов в список с индексами этих токенов\n",
        "        \"\"\"\n",
        "        indxs  = [self.token2index.get(text, self.unk_index) for text in tokenized_text] \n",
        "        \n",
        "        return indxs \n",
        "        \n",
        "    def padding(self, tokens_indices):\n",
        "        \"\"\"\n",
        "        В этом методе нужно сделать длину tokens_indices равной self.max_length\n",
        "        Опционально убрать повторяющиеся unk'и\n",
        "        \"\"\"\n",
        "        while len(tokens_indices)< self.max_length:\n",
        "          tokens_indices.append(self.pad_index)\n",
        "        \n",
        "        if len(tokens_indices)> self.max_length:\n",
        "          tokens_indices = tokens_indices[:self.max_length]\n",
        "          \n",
        "        return tokens_indices\n",
        "    \n",
        "    def __call__(self, text):\n",
        "        \"\"\"\n",
        "        В этом методе нужно перевести строку с текстом в вектор с индексами слов нужно размера (self.max_length)\n",
        "        \"\"\"\n",
        "        tokenized_text = self.tokenize(text)\n",
        "        tokens_indices = self.indexing(tokenized_text)\n",
        "        return self.padding(tokens_indices)\n",
        "        \n",
        "    def collate(self, batch):\n",
        "        \n",
        "        tokenized_texts = list()\n",
        "        labels = list()\n",
        "        \n",
        "        for sample in batch:\n",
        "            label = sample[\"label\"]\n",
        "            text = sample[\"text\"]\n",
        "            tokenized_texts.append(self(text))\n",
        "            labels.append(label)\n",
        "            \n",
        "        tokenized_texts = torch.tensor(tokenized_texts)\n",
        "        labels = torch.tensor(labels)\n",
        "        \n",
        "        return tokenized_texts, labels"
      ]
    },
    {
      "cell_type": "code",
      "source": [
        "tokenizer = Tokenizer(\n",
        "    base_tokenizer=ToktokTokenizer(),\n",
        "    token2index=token2index,\n",
        "    pad_token='<PAD>',\n",
        "    unk_token='<UNK>',\n",
        "    max_length= 64\n",
        ")"
      ],
      "metadata": {
        "id": "N3RW--E4EATc"
      },
      "id": "N3RW--E4EATc",
      "execution_count": 15,
      "outputs": []
    },
    {
      "cell_type": "markdown",
      "id": "018cf71c",
      "metadata": {
        "id": "018cf71c"
      },
      "source": [
        "## <Место для реализации>"
      ]
    },
    {
      "cell_type": "code",
      "execution_count": 16,
      "id": "40268f8c",
      "metadata": {
        "id": "40268f8c"
      },
      "outputs": [],
      "source": [
        "train_loader = DataLoader(train_dataset, batch_size=128, shuffle=True, collate_fn=tokenizer.collate)\n",
        "valid_loader = DataLoader(valid_dataset, batch_size=128, shuffle=False, collate_fn=tokenizer.collate)\n",
        "test_loader = DataLoader(test_dataset, batch_size=128, shuffle=False, collate_fn=tokenizer.collate)"
      ]
    },
    {
      "cell_type": "code",
      "execution_count": 17,
      "id": "d293b759",
      "metadata": {
        "id": "d293b759"
      },
      "outputs": [],
      "source": [
        "for x, y in train_loader:\n",
        "    break"
      ]
    },
    {
      "cell_type": "code",
      "execution_count": 18,
      "id": "87752ad7",
      "metadata": {
        "id": "87752ad7"
      },
      "outputs": [],
      "source": [
        "assert(isinstance(x, torch.Tensor))\n",
        "assert(len(x.size()) == 2)\n",
        "\n",
        "assert(isinstance(y, torch.Tensor))\n",
        "assert(len(y.size()) == 1)"
      ]
    },
    {
      "cell_type": "markdown",
      "id": "ff1f451c",
      "metadata": {
        "id": "ff1f451c"
      },
      "source": [
        "# Я выбрала метрику 'weighted-f1'\n",
        "Почему я выбрал эту метрику:  \n",
        "\n",
        "Данная метрика лучше всего подходит для мультиклассовой классификации. Так как у меня нет уверенности в сбалансированности классов, был выбран именно 'weighted' вариант, а не 'macro'. "
      ]
    },
    {
      "cell_type": "code",
      "source": [
        "class DeepAverageNetwork(nn.Module):\n",
        "    \n",
        "    def __init__(self,\n",
        "                 n_embed: int,\n",
        "                 d_embed: int,\n",
        "                 d_hidden: int,\n",
        "                 d_out: int,\n",
        "                 dp: float,\n",
        "                 embed_weight:np.array):\n",
        "        super(DeepAverageNetwork, self).__init__()\n",
        "\n",
        "\n",
        "        self.embed = nn.Embedding(n_embed, d_embed)\n",
        "\n",
        " \n",
        "        self.dropout1 = nn.Dropout(dp)\n",
        "        self.bn1 = nn.BatchNorm1d(d_embed)\n",
        "        self.fc1 = nn.Linear(d_embed, d_hidden)\n",
        "        self.non_linear_function = torch.nn.ReLU()\n",
        "        self.dropout2 = nn.Dropout(dp)\n",
        "        self.bn2 = nn.BatchNorm1d(d_hidden)\n",
        "        self.fc2 = nn.Linear(d_hidden, d_out)\n",
        "\n",
        "    def forward(self, x):\n",
        "\n",
        "        x = self.embed(x)\n",
        "\n",
        "        x = x.mean(dim=1)\n",
        "\n",
        "        x = self.dropout1(x)\n",
        "        x = self.bn1(x)\n",
        "        x = self.fc1(x)\n",
        "        x = self.non_linear_function(x)\n",
        "        x = self.dropout2(x)\n",
        "        x = self.bn2(x)\n",
        "        x = self.fc2(x)\n",
        "\n",
        "        return x"
      ],
      "metadata": {
        "id": "Fn7BPpbDUj4O"
      },
      "id": "Fn7BPpbDUj4O",
      "execution_count": 19,
      "outputs": []
    },
    {
      "cell_type": "code",
      "execution_count": 20,
      "id": "7966f715",
      "metadata": {
        "id": "7966f715"
      },
      "outputs": [],
      "source": [
        "model = DeepAverageNetwork(n_embed=100_000, d_embed=len(embeddings_matrix[0]),d_hidden=128, d_out=3, dp=0.25, embed_weight= embeddings_matrix)"
      ]
    },
    {
      "cell_type": "code",
      "execution_count": 21,
      "id": "4b4a2161",
      "metadata": {
        "colab": {
          "base_uri": "https://localhost:8080/"
        },
        "id": "4b4a2161",
        "outputId": "4737ab84-60df-4141-f05e-a6011ca05ead"
      },
      "outputs": [
        {
          "output_type": "execute_result",
          "data": {
            "text/plain": [
              "DeepAverageNetwork(\n",
              "  (embed): Embedding(100000, 300)\n",
              "  (dropout1): Dropout(p=0.25, inplace=False)\n",
              "  (bn1): BatchNorm1d(300, eps=1e-05, momentum=0.1, affine=True, track_running_stats=True)\n",
              "  (fc1): Linear(in_features=300, out_features=128, bias=True)\n",
              "  (non_linear_function): ReLU()\n",
              "  (dropout2): Dropout(p=0.25, inplace=False)\n",
              "  (bn2): BatchNorm1d(128, eps=1e-05, momentum=0.1, affine=True, track_running_stats=True)\n",
              "  (fc2): Linear(in_features=128, out_features=3, bias=True)\n",
              ")"
            ]
          },
          "metadata": {},
          "execution_count": 21
        }
      ],
      "source": [
        "model"
      ]
    },
    {
      "cell_type": "code",
      "source": [
        "from sklearn.metrics import f1_score\n",
        "\n",
        "\n",
        "def train(model, iterator, optimizer, criterion):\n",
        "    \n",
        "    losses = list()\n",
        "    f1 = list()\n",
        "    \n",
        "    model.train()  \n",
        "\n",
        "    for x, y in tqdm(iterator, total=len(iterator)):\n",
        "        \n",
        "        optimizer.zero_grad()   \n",
        "        predictions = model(x.to(device)).squeeze() \n",
        "        loss = criterion(predictions, y.to(device))        \n",
        "               \n",
        "        \n",
        "        loss.backward()\n",
        "        optimizer.step()     \n",
        "        preds = predictions.detach().cpu().numpy().argmax(1).tolist()\n",
        "        y_true = y.tolist()\n",
        "        \n",
        "        losses.append(loss.item())\n",
        "        f1.append(f1_score(y_true, preds, average=\"weighted\"))\n",
        "        \n",
        "    return np.mean(f1), np.mean(losses)\n",
        "\n",
        "\n",
        "def evaluate(model, iterator, criterion):\n",
        "    \n",
        "    losses = list()\n",
        "    f1 = list()\n",
        "    \n",
        "    model.eval()  \n",
        "    with torch.no_grad():\n",
        "        for x, y in tqdm(iterator, total=len(iterator)):   \n",
        "\n",
        "            predictions = model(x.to(device)).squeeze()  \n",
        "            loss = criterion(predictions, y.to(device))        \n",
        "            preds = predictions.detach().cpu().numpy().argmax(1).tolist()\n",
        "            y_true = y.tolist()\n",
        "            \n",
        "\n",
        "            losses.append(loss.item())  \n",
        "            f1.append(f1_score(y_true, preds, average=\"weighted\"))\n",
        "            \n",
        "    return np.mean(f1), np.mean(losses) "
      ],
      "metadata": {
        "id": "fzLaksffYXlQ"
      },
      "id": "fzLaksffYXlQ",
      "execution_count": 22,
      "outputs": []
    },
    {
      "cell_type": "markdown",
      "id": "5efad1d1",
      "metadata": {
        "id": "5efad1d1"
      },
      "source": [
        "## Задайте функцию потерь и оптимизатор"
      ]
    },
    {
      "cell_type": "code",
      "execution_count": 23,
      "id": "34c552fa",
      "metadata": {
        "id": "34c552fa"
      },
      "outputs": [],
      "source": [
        "device = torch.device('cuda' if torch.cuda.is_available() else 'cpu')  \n",
        "\n",
        "optimizer = torch.optim.Adam(model.parameters(), lr=0.0001)\n",
        "criterion = torch.nn.CrossEntropyLoss()\n",
        "\n",
        "model = model.to(device)\n",
        "criterion = criterion.to(device)"
      ]
    },
    {
      "cell_type": "markdown",
      "id": "628847fe",
      "metadata": {
        "id": "628847fe"
      },
      "source": [
        "## Сделайте цикл обучения"
      ]
    },
    {
      "cell_type": "code",
      "execution_count": 24,
      "id": "b634b9ce",
      "metadata": {
        "colab": {
          "base_uri": "https://localhost:8080/"
        },
        "id": "b634b9ce",
        "outputId": "d30fee29-adc6-4c38-8a09-09cc0c490bc4"
      },
      "outputs": [
        {
          "output_type": "stream",
          "name": "stdout",
          "text": [
            "0\n"
          ]
        },
        {
          "output_type": "stream",
          "name": "stderr",
          "text": [
            "100%|██████████| 357/357 [00:19<00:00, 18.39it/s]\n",
            "100%|██████████| 16/16 [00:00<00:00, 38.62it/s]\n"
          ]
        },
        {
          "output_type": "stream",
          "name": "stdout",
          "text": [
            "Loss_on_train:1.1211505280155427, F1_train:0.403844427127986,\n",
            "Loss_on_valid:1.0634995326399803, F1_valid: 0.3849500956594555\n",
            "---\n",
            "1\n"
          ]
        },
        {
          "output_type": "stream",
          "name": "stderr",
          "text": [
            "100%|██████████| 357/357 [00:19<00:00, 18.36it/s]\n",
            "100%|██████████| 16/16 [00:00<00:00, 35.59it/s]\n"
          ]
        },
        {
          "output_type": "stream",
          "name": "stdout",
          "text": [
            "Loss_on_train:1.0556189935414397, F1_train:0.44607359024797505,\n",
            "Loss_on_valid:1.0283311493694782, F1_valid: 0.40305722068834937\n",
            "---\n",
            "2\n"
          ]
        },
        {
          "output_type": "stream",
          "name": "stderr",
          "text": [
            "100%|██████████| 357/357 [00:24<00:00, 14.81it/s]\n",
            "100%|██████████| 16/16 [00:00<00:00, 39.69it/s]\n"
          ]
        },
        {
          "output_type": "stream",
          "name": "stdout",
          "text": [
            "Loss_on_train:1.0220153979560573, F1_train:0.4619677824946012,\n",
            "Loss_on_valid:1.0042855963110924, F1_valid: 0.4255792358716018\n",
            "---\n",
            "3\n"
          ]
        },
        {
          "output_type": "stream",
          "name": "stderr",
          "text": [
            "100%|██████████| 357/357 [00:19<00:00, 18.30it/s]\n",
            "100%|██████████| 16/16 [00:00<00:00, 37.13it/s]\n"
          ]
        },
        {
          "output_type": "stream",
          "name": "stdout",
          "text": [
            "Loss_on_train:1.001427329721905, F1_train:0.47059972299016134,\n",
            "Loss_on_valid:0.9883677624166012, F1_valid: 0.4249103023737897\n",
            "---\n",
            "4\n"
          ]
        },
        {
          "output_type": "stream",
          "name": "stderr",
          "text": [
            "100%|██████████| 357/357 [00:20<00:00, 17.19it/s]\n",
            "100%|██████████| 16/16 [00:00<00:00, 38.93it/s]\n"
          ]
        },
        {
          "output_type": "stream",
          "name": "stdout",
          "text": [
            "Loss_on_train:0.9885007056201539, F1_train:0.47518028827641623,\n",
            "Loss_on_valid:0.977292850613594, F1_valid: 0.43766692020383896\n",
            "---\n",
            "5\n"
          ]
        },
        {
          "output_type": "stream",
          "name": "stderr",
          "text": [
            "100%|██████████| 357/357 [00:19<00:00, 18.47it/s]\n",
            "100%|██████████| 16/16 [00:00<00:00, 41.89it/s]\n"
          ]
        },
        {
          "output_type": "stream",
          "name": "stdout",
          "text": [
            "Loss_on_train:0.9806646881651144, F1_train:0.4760891762223823,\n",
            "Loss_on_valid:0.9695588499307632, F1_valid: 0.4533488978341758\n",
            "---\n",
            "6\n"
          ]
        },
        {
          "output_type": "stream",
          "name": "stderr",
          "text": [
            "100%|██████████| 357/357 [00:19<00:00, 17.87it/s]\n",
            "100%|██████████| 16/16 [00:00<00:00, 39.83it/s]\n"
          ]
        },
        {
          "output_type": "stream",
          "name": "stdout",
          "text": [
            "Loss_on_train:0.974154908283084, F1_train:0.47811550989158125,\n",
            "Loss_on_valid:0.9661760292947292, F1_valid: 0.4542610875872342\n",
            "---\n",
            "7\n"
          ]
        },
        {
          "output_type": "stream",
          "name": "stderr",
          "text": [
            "100%|██████████| 357/357 [00:19<00:00, 18.38it/s]\n",
            "100%|██████████| 16/16 [00:00<00:00, 40.50it/s]\n"
          ]
        },
        {
          "output_type": "stream",
          "name": "stdout",
          "text": [
            "Loss_on_train:0.9698717208469615, F1_train:0.48354397151481887,\n",
            "Loss_on_valid:0.9589758813381195, F1_valid: 0.4734972334401383\n",
            "---\n",
            "8\n"
          ]
        },
        {
          "output_type": "stream",
          "name": "stderr",
          "text": [
            "100%|██████████| 357/357 [00:19<00:00, 18.45it/s]\n",
            "100%|██████████| 16/16 [00:00<00:00, 39.31it/s]\n"
          ]
        },
        {
          "output_type": "stream",
          "name": "stdout",
          "text": [
            "Loss_on_train:0.9627093806320212, F1_train:0.4928793269352088,\n",
            "Loss_on_valid:0.9543654508888721, F1_valid: 0.47795869077709086\n",
            "---\n",
            "9\n"
          ]
        },
        {
          "output_type": "stream",
          "name": "stderr",
          "text": [
            "100%|██████████| 357/357 [00:19<00:00, 18.24it/s]\n",
            "100%|██████████| 16/16 [00:00<00:00, 39.83it/s]"
          ]
        },
        {
          "output_type": "stream",
          "name": "stdout",
          "text": [
            "Loss_on_train:0.9569140056602093, F1_train:0.4960873287116233,\n",
            "Loss_on_valid:0.9515315219759941, F1_valid: 0.4816471297760757\n",
            "---\n"
          ]
        },
        {
          "output_type": "stream",
          "name": "stderr",
          "text": [
            "\n"
          ]
        }
      ],
      "source": [
        "# Задайте количество эпох\n",
        "NUM_EPOCHS = 10\n",
        "\n",
        "losses = list()\n",
        "loss_on_eval = list()\n",
        "\n",
        "f1 = list()\n",
        "f1_on_eval = list()\n",
        "\n",
        "for n_epoch in range(NUM_EPOCHS):\n",
        "    print(n_epoch)\n",
        "    f1_train, loss_train = train(model=model, iterator=train_loader, optimizer=optimizer, criterion=criterion)\n",
        "    f1.append(f1_train)\n",
        "    losses.append(loss_train)\n",
        "    f1_valid, loss_valid = evaluate(model=model, iterator=valid_loader, criterion=criterion)\n",
        "    f1_on_eval.append(f1_valid)\n",
        "    loss_on_eval.append(loss_valid)\n",
        "\n",
        "\n",
        "    print('Loss_on_train:{lt}, F1_train:{ft},\\nLoss_on_valid:{lv}, F1_valid: {fv}'.format(lt = loss_train, ft = f1_train, lv = loss_valid, fv = f1_valid))\n",
        "    print('---')\n"
      ]
    },
    {
      "cell_type": "code",
      "source": [
        "plt.plot(losses)\n",
        "plt.plot(loss_on_eval)\n",
        "plt.title('model lossses')\n",
        "plt.ylabel('loss')\n",
        "plt.xlabel('epoch')\n",
        "plt.legend(['train', 'val'], loc='upper left')\n",
        "plt.show()"
      ],
      "metadata": {
        "id": "jBSunTrCl7tI",
        "colab": {
          "base_uri": "https://localhost:8080/",
          "height": 295
        },
        "outputId": "27bcecd3-57cb-437a-84fc-a993278c184a"
      },
      "id": "jBSunTrCl7tI",
      "execution_count": 25,
      "outputs": [
        {
          "output_type": "display_data",
          "data": {
            "image/png": "[encoded data removed]",
            "text/plain": [
              "<Figure size 432x288 with 1 Axes>"
            ]
          },
          "metadata": {
            "needs_background": "light"
          }
        }
      ]
    },
    {
      "cell_type": "code",
      "source": [
        "plt.plot(f1)\n",
        "plt.plot(f1_on_eval)\n",
        "plt.title('model accuracy')\n",
        "plt.ylabel('loss')\n",
        "plt.xlabel('epoch')\n",
        "plt.legend(['train', 'val'], loc='upper left')\n",
        "plt.show()"
      ],
      "metadata": {
        "id": "4DPB3i1lmH1D",
        "colab": {
          "base_uri": "https://localhost:8080/",
          "height": 295
        },
        "outputId": "7d4e9ca3-8225-4392-8359-98d21092a86d"
      },
      "id": "4DPB3i1lmH1D",
      "execution_count": 26,
      "outputs": [
        {
          "output_type": "display_data",
          "data": {
            "image/png": "[encoded data removed]",
            "text/plain": [
              "<Figure size 432x288 with 1 Axes>"
            ]
          },
          "metadata": {
            "needs_background": "light"
          }
        }
      ]
    },
    {
      "cell_type": "code",
      "source": [
        "def model_test(model, iterator, criterion):\n",
        "    mod_preds = list()\n",
        "    true = list()\n",
        "    model.eval()  \n",
        "    with torch.no_grad():\n",
        "        for x, y in tqdm(iterator, total=len(iterator)):   \n",
        "\n",
        "            predictions = model(x.to(device)).squeeze()         \n",
        "            preds = predictions.detach().cpu().numpy().argmax(1).tolist()\n",
        "            y_true = y.tolist()\n",
        "            \n",
        "            mod_preds.extend(preds)\n",
        "            true.extend(y_true)\n",
        "    return true, mod_preds"
      ],
      "metadata": {
        "id": "0v35gnHhUtAt"
      },
      "id": "0v35gnHhUtAt",
      "execution_count": 27,
      "outputs": []
    },
    {
      "cell_type": "code",
      "source": [
        "true, preds = model_test(model=model, iterator=test_loader, criterion=criterion)\n",
        "assert len(true) == len(preds)"
      ],
      "metadata": {
        "id": "fexN1Rwyh-zD",
        "colab": {
          "base_uri": "https://localhost:8080/"
        },
        "outputId": "f16419a7-56ae-40f2-8c08-81c734b5503e"
      },
      "id": "fexN1Rwyh-zD",
      "execution_count": 28,
      "outputs": [
        {
          "output_type": "stream",
          "name": "stderr",
          "text": [
            "100%|██████████| 96/96 [00:02<00:00, 40.63it/s]\n"
          ]
        }
      ]
    },
    {
      "cell_type": "code",
      "source": [
        "from sklearn.metrics import confusion_matrix\n",
        "\n",
        "conf_matrix = confusion_matrix(true, preds)\n",
        "ax = sns.heatmap(conf_matrix/np.sum(conf_matrix), annot=True, fmt='.2%')\n",
        "\n",
        "ax.set_xlabel('Pred')\n",
        "ax.set_ylabel('True');\n",
        "\n",
        "ax.xaxis.set_ticklabels(['-','neutral', '+'])\n",
        "ax.yaxis.set_ticklabels(['-','neutral', '+'])\n",
        "\n",
        "plt.show()"
      ],
      "metadata": {
        "id": "u1D-CcZYLSWw",
        "colab": {
          "base_uri": "https://localhost:8080/",
          "height": 279
        },
        "outputId": "0f813d2a-ac31-47f0-d0d0-994b8a2fe7aa"
      },
      "id": "u1D-CcZYLSWw",
      "execution_count": 29,
      "outputs": [
        {
          "output_type": "display_data",
          "data": {
            "image/png": "[encoded data removed]",
            "text/plain": [
              "<Figure size 432x288 with 2 Axes>"
            ]
          },
          "metadata": {
            "needs_background": "light"
          }
        }
      ]
    },
    {
      "cell_type": "markdown",
      "id": "87583e79",
      "metadata": {
        "id": "87583e79"
      },
      "source": [
        "# Выводы\n",
        "Напишите небольшой отчет о проделанной работе. Что удалось, в чем не уверены, что делать дальше."
      ]
    },
    {
      "cell_type": "markdown",
      "source": [
        "Удалось обучить перцептрон, но результат получился скромный. Возможно, результат улучшился бы с увеличением количества эпох, но в таком случае потребовался бы early stopping для предотвращения овер фиттинга модели. \n",
        "\n",
        "Я считаю, что более качественная предобработка данных также могла бы улучшить результат, так как на данном этапе получается большое количество UNKов, что негативно отражается на эмбеддингах. К увеличению качества модели могло бы привести и увеличение тренировочной выборки: в настоящий момент модель лучше всего справилась с классификацией нейтральных сентиментов. Это говорит о том, что данный класс лучше всего представлен в тренировочных данных."
      ],
      "metadata": {
        "id": "TRV-ingFEwzk"
      },
      "id": "TRV-ingFEwzk"
    }
  ],
  "metadata": {
    "kernelspec": {
      "display_name": "Python 3",
      "language": "python",
      "name": "python3"
    },
    "language_info": {
      "codemirror_mode": {
        "name": "ipython",
        "version": 3
      },
      "file_extension": ".py",
      "mimetype": "text/x-python",
      "name": "python",
      "nbconvert_exporter": "python",
      "pygments_lexer": "ipython3",
      "version": "3.8.10"
    },
    "colab": {
      "name": "DAN_Task_done.ipynb",
      "provenance": [],
      "collapsed_sections": []
    },
    "accelerator": "GPU"
  },
  "nbformat": 4,
  "nbformat_minor": 5
}